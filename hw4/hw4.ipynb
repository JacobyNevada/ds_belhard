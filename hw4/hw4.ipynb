{
  "nbformat": 4,
  "nbformat_minor": 0,
  "metadata": {
    "colab": {
      "provenance": [],
      "authorship_tag": "ABX9TyMnT45Uw8aYVlqI+QL4FRnk",
      "include_colab_link": true
    },
    "kernelspec": {
      "name": "python3",
      "display_name": "Python 3"
    },
    "language_info": {
      "name": "python"
    }
  },
  "cells": [
    {
      "cell_type": "markdown",
      "metadata": {
        "id": "view-in-github",
        "colab_type": "text"
      },
      "source": [
        "<a href=\"https://colab.research.google.com/github/JacobyNevada/ds_belhard/blob/main/hw4/hw4.ipynb\" target=\"_parent\"><img src=\"https://colab.research.google.com/assets/colab-badge.svg\" alt=\"Open In Colab\"/></a>"
      ]
    },
    {
      "cell_type": "code",
      "execution_count": 3,
      "metadata": {
        "colab": {
          "base_uri": "https://localhost:8080/"
        },
        "id": "YF0bQsfcR2V8",
        "outputId": "7f5e047e-c569-4247-f602-800196426b78"
      },
      "outputs": [
        {
          "output_type": "stream",
          "name": "stdout",
          "text": [
            "Drive already mounted at /content/drive; to attempt to forcibly remount, call drive.mount(\"/content/drive\", force_remount=True).\n",
            "       Administrative  Administrative_Duration  Informational  \\\n",
            "0                   0                      0.0              0   \n",
            "1                   0                      0.0              0   \n",
            "2                   0                      0.0              0   \n",
            "3                   0                      0.0              0   \n",
            "4                   0                      0.0              0   \n",
            "...               ...                      ...            ...   \n",
            "12325               3                    145.0              0   \n",
            "12326               0                      0.0              0   \n",
            "12327               0                      0.0              0   \n",
            "12328               4                     75.0              0   \n",
            "12329               0                      0.0              0   \n",
            "\n",
            "       Informational_Duration  ProductRelated  ProductRelated_Duration  \\\n",
            "0                         0.0               1                 0.000000   \n",
            "1                         0.0               2                64.000000   \n",
            "2                         0.0               1                 0.000000   \n",
            "3                         0.0               2                 2.666667   \n",
            "4                         0.0              10               627.500000   \n",
            "...                       ...             ...                      ...   \n",
            "12325                     0.0              53              1783.791667   \n",
            "12326                     0.0               5               465.750000   \n",
            "12327                     0.0               6               184.250000   \n",
            "12328                     0.0              15               346.000000   \n",
            "12329                     0.0               3                21.250000   \n",
            "\n",
            "       BounceRates  ExitRates  PageValues  SpecialDay Month  OperatingSystems  \\\n",
            "0         0.200000   0.200000    0.000000         0.0   Feb                 1   \n",
            "1         0.000000   0.100000    0.000000         0.0   Feb                 2   \n",
            "2         0.200000   0.200000    0.000000         0.0   Feb                 4   \n",
            "3         0.050000   0.140000    0.000000         0.0   Feb                 3   \n",
            "4         0.020000   0.050000    0.000000         0.0   Feb                 3   \n",
            "...            ...        ...         ...         ...   ...               ...   \n",
            "12325     0.007143   0.029031   12.241717         0.0   Dec                 4   \n",
            "12326     0.000000   0.021333    0.000000         0.0   Nov                 3   \n",
            "12327     0.083333   0.086667    0.000000         0.0   Nov                 3   \n",
            "12328     0.000000   0.021053    0.000000         0.0   Nov                 2   \n",
            "12329     0.000000   0.066667    0.000000         0.0   Nov                 3   \n",
            "\n",
            "       Browser  Region  TrafficType        VisitorType  Weekend  Revenue  \n",
            "0            1       1            1  Returning_Visitor    False    False  \n",
            "1            2       1            2  Returning_Visitor    False    False  \n",
            "2            1       9            3  Returning_Visitor    False    False  \n",
            "3            2       2            4  Returning_Visitor    False    False  \n",
            "4            3       1            4  Returning_Visitor     True    False  \n",
            "...        ...     ...          ...                ...      ...      ...  \n",
            "12325        6       1            1  Returning_Visitor     True    False  \n",
            "12326        2       1            8  Returning_Visitor     True    False  \n",
            "12327        2       1           13  Returning_Visitor     True    False  \n",
            "12328        2       3           11  Returning_Visitor    False    False  \n",
            "12329        2       1            2        New_Visitor     True    False  \n",
            "\n",
            "[12330 rows x 18 columns]\n"
          ]
        }
      ],
      "source": [
        "import pandas as pd\n",
        "from google.colab import drive\n",
        "import os\n",
        "import sqlite3\n",
        "import matplotlib.pyplot as plt\n",
        "import seaborn as sns\n",
        "\n",
        "def data_loading(file_link):\n",
        "  drive.mount('/content/drive')\n",
        "  file_path = f\"/content/drive/{file_link}\"\n",
        "\n",
        "  # Загрузка CSV файла\n",
        "  dataset = pd.read_csv(file_path)\n",
        "  return dataset\n",
        "\n",
        "\n",
        "#################################################################3\n",
        "\n",
        "\n",
        "# https://www.kaggle.com/datasets/henrysue/online-shoppers-intention\n",
        "file_link = 'MyDrive/Colab Notebooks/hw4/online_shoppers_intention.csv'\n",
        "dataset = data_loading(file_link)\n",
        "\n",
        "print(dataset)"
      ]
    }
  ]
}