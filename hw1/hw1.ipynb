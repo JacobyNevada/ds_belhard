{
  "nbformat": 4,
  "nbformat_minor": 0,
  "metadata": {
    "colab": {
      "provenance": [],
      "authorship_tag": "ABX9TyNajIy/I8kZVjev9HLJEsw8",
      "include_colab_link": true
    },
    "kernelspec": {
      "name": "python3",
      "display_name": "Python 3"
    },
    "language_info": {
      "name": "python"
    }
  },
  "cells": [
    {
      "cell_type": "markdown",
      "metadata": {
        "id": "view-in-github",
        "colab_type": "text"
      },
      "source": [
        "<a href=\"https://colab.research.google.com/github/JacobyNevada/ds_belhard/blob/main/hw1/hw1.ipynb\" target=\"_parent\"><img src=\"https://colab.research.google.com/assets/colab-badge.svg\" alt=\"Open In Colab\"/></a>"
      ]
    },
    {
      "cell_type": "code",
      "execution_count": 9,
      "metadata": {
        "colab": {
          "base_uri": "https://localhost:8080/"
        },
        "id": "D68xVh6o9g8y",
        "outputId": "34b4d7eb-7bf6-473b-ce6e-ebef64316cf9"
      },
      "outputs": [
        {
          "output_type": "stream",
          "name": "stdout",
          "text": [
            "Введите a:4\n",
            "Введите b:7\n",
            "4 / 7 = 0.5714285714285714\n"
          ]
        }
      ],
      "source": [
        "try:\n",
        "  a = input(\"Введите a:\")\n",
        "  b = input(\"Введите b:\")\n",
        "  print(f\"{a} / {b} = {int(a) / int (b)}\")\n",
        "except ValueError:\n",
        "  print(\"Неверно введены значения\")\n",
        "except ZeroDivisionError:\n",
        "  print(\"Нельзя делить на 0\")"
      ]
    },
    {
      "cell_type": "code",
      "source": [
        "Сложность алгоритма O(1) т.к. операции последовательные"
      ],
      "metadata": {
        "id": "zMCH0eMq_aJU"
      },
      "execution_count": null,
      "outputs": []
    }
  ]
}